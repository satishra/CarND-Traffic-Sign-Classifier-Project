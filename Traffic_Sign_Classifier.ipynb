{
 "cells": [
  {
   "cell_type": "markdown",
   "metadata": {},
   "source": [
    "# Self-Driving Car Engineer Nanodegree\n",
    "\n",
    "## Deep Learning\n",
    "\n",
    "## Project: Build a Traffic Sign Recognition Classifier\n",
    "\n",
    "In this notebook, a template is provided for you to implement your functionality in stages, which is required to successfully complete this project. If additional code is required that cannot be included in the notebook, be sure that the Python code is successfully imported and included in your submission if necessary. \n",
    "\n",
    "> **Note**: Once you have completed all of the code implementations, you need to finalize your work by exporting the iPython Notebook as an HTML document. Before exporting the notebook to html, all of the code cells need to have been run so that reviewers can see the final implementation and output. You can then export the notebook by using the menu above and navigating to  \\n\",\n",
    "    \"**File -> Download as -> HTML (.html)**. Include the finished document along with this notebook as your submission. \n",
    "\n",
    "In addition to implementing code, there is a writeup to complete. The writeup should be completed in a separate file, which can be either a markdown file or a pdf document. There is a [write up template](https://github.com/udacity/CarND-Traffic-Sign-Classifier-Project/blob/master/writeup_template.md) that can be used to guide the writing process. Completing the code template and writeup template will cover all of the [rubric points](https://review.udacity.com/#!/rubrics/481/view) for this project.\n",
    "\n",
    "The [rubric](https://review.udacity.com/#!/rubrics/481/view) contains \"Stand Out Suggestions\" for enhancing the project beyond the minimum requirements. The stand out suggestions are optional. If you decide to pursue the \"stand out suggestions\", you can include the code in this Ipython notebook and also discuss the results in the writeup file.\n",
    "\n",
    "\n",
    ">**Note:** Code and Markdown cells can be executed using the **Shift + Enter** keyboard shortcut. In addition, Markdown cells can be edited by typically double-clicking the cell to enter edit mode."
   ]
  },
  {
   "cell_type": "markdown",
   "metadata": {},
   "source": [
    "---\n",
    "## Step 0: Load The Data"
   ]
  },
  {
   "cell_type": "code",
   "execution_count": 1,
   "metadata": {
    "collapsed": false
   },
   "outputs": [
    {
     "name": "stdout",
     "output_type": "stream",
     "text": [
      "Extracting traffic-signs-data/train-images-idx3-ubyte.gz\n",
      "Extracting traffic-signs-data/train-labels-idx1-ubyte.gz\n",
      "Extracting traffic-signs-data/t10k-images-idx3-ubyte.gz\n",
      "Extracting traffic-signs-data/t10k-labels-idx1-ubyte.gz\n",
      "\n",
      "Image Shape: (32, 32, 3)\n",
      "\n",
      "Training Set:   34799 samples\n",
      "Validation Set: 4410 samples\n",
      "Test Set:       12630 samples\n"
     ]
    }
   ],
   "source": [
    "# Load pickled data\n",
    "import pickle\n",
    "\n",
    "import cv2\n",
    "\n",
    "# Loading the data\n",
    "from tensorflow.examples.tutorials.mnist import input_data\n",
    "import pandas as pd\n",
    "import matplotlib.pyplot as plt\n",
    "import os\n",
    "from sklearn.utils import shuffle\n",
    "from sklearn.metrics import confusion_matrix\n",
    "\n",
    "mnist = input_data.read_data_sets(\"traffic-signs-data/\", reshape=False)\n",
    "X_train, y_train           = mnist.train.images, mnist.train.labels\n",
    "X_validation, y_validation = mnist.validation.images, mnist.validation.labels\n",
    "X_test, y_test             = mnist.test.images, mnist.test.labels\n",
    "\n",
    "assert(len(X_train) == len(y_train))\n",
    "assert(len(X_validation) == len(y_validation))\n",
    "assert(len(X_test) == len(y_test))\n",
    "\n",
    "training_file=\"traffic-signs-data/train.p\"\n",
    "validation_file=\"traffic-signs-data/valid.p\"\n",
    "testing_file=\"traffic-signs-data/test.p\"\n",
    "signnames_file=\"traffic-signs-data/signnames.csv\"\n",
    "\n",
    "with open(training_file, mode='rb') as f:\n",
    "    train = pickle.load(f)\n",
    "with open(validation_file, mode='rb') as f:\n",
    "    valid = pickle.load(f)\n",
    "with open(testing_file, mode='rb') as f:\n",
    "    test = pickle.load(f)\n",
    "with open(signnames_file) as f:\n",
    "    f.readline() # Strip the header\n",
    "    tuples = [line.strip().split(',') for line in f]\n",
    "    sign_names = {int(t[0]): t[1] for t in tuples}\n",
    "    \n",
    "X_train, y_train = train['features'], train['labels']\n",
    "X_valid, y_valid = valid['features'], valid['labels']\n",
    "X_test, y_test = test['features'], test['labels']\n",
    "\n",
    "print()\n",
    "print(\"Image Shape: {}\".format(X_train[0].shape))\n",
    "print()\n",
    "print(\"Training Set:   {} samples\".format(len(X_train)))\n",
    "print(\"Validation Set: {} samples\".format(len(X_valid)))\n",
    "print(\"Test Set:       {} samples\".format(len(X_test)))"
   ]
  },
  {
   "cell_type": "markdown",
   "metadata": {},
   "source": [
    "---\n",
    "\n",
    "## Step 1: Dataset Summary & Exploration\n",
    "\n",
    "The pickled data is a dictionary with 4 key/value pairs:\n",
    "\n",
    "- `'features'` is a 4D array containing raw pixel data of the traffic sign images, (num examples, width, height, channels).\n",
    "- `'labels'` is a 1D array containing the label/class id of the traffic sign. The file `signnames.csv` contains id -> name mappings for each id.\n",
    "- `'sizes'` is a list containing tuples, (width, height) representing the original width and height the image.\n",
    "- `'coords'` is a list containing tuples, (x1, y1, x2, y2) representing coordinates of a bounding box around the sign in the image. **THESE COORDINATES ASSUME THE ORIGINAL IMAGE. THE PICKLED DATA CONTAINS RESIZED VERSIONS (32 by 32) OF THESE IMAGES**\n",
    "\n",
    "Complete the basic data summary below. Use python, numpy and/or pandas methods to calculate the data summary rather than hard coding the results. For example, the [pandas shape method](http://pandas.pydata.org/pandas-docs/stable/generated/pandas.DataFrame.shape.html) might be useful for calculating some of the summary results. "
   ]
  },
  {
   "cell_type": "markdown",
   "metadata": {},
   "source": [
    "### Provide a Basic Summary of the Data Set Using Python, Numpy and/or Pandas"
   ]
  },
  {
   "cell_type": "code",
   "execution_count": 2,
   "metadata": {
    "collapsed": false
   },
   "outputs": [
    {
     "name": "stdout",
     "output_type": "stream",
     "text": [
      "Number of training examples = 34799\n",
      "Number of testing examples = 12630\n",
      "Image data shape = (32, 32, 3)\n",
      "Number of classes = 43\n"
     ]
    }
   ],
   "source": [
    "### Replace each question mark with the appropriate value. \n",
    "### Use python, pandas or numpy methods rather than hard coding the results\n",
    "\n",
    "# TODO: Number of training examples\n",
    "n_train = format(len(X_train))\n",
    "\n",
    "# TODO: Number of testing examples.\n",
    "n_test = format(len(X_test))\n",
    "\n",
    "# TODO: What's the shape of an traffic sign image?\n",
    "image_shape = format(X_train[0].shape)\n",
    "\n",
    "# TODO: How many unique classes/labels there are in the dataset.\n",
    "n_classes = len(set(y_train))\n",
    "\n",
    "print(\"Number of training examples =\", n_train)\n",
    "print(\"Number of testing examples =\", n_test)\n",
    "print(\"Image data shape =\", image_shape)\n",
    "print(\"Number of classes =\", n_classes)"
   ]
  },
  {
   "cell_type": "markdown",
   "metadata": {},
   "source": [
    "### Include an exploratory visualization of the dataset"
   ]
  },
  {
   "cell_type": "markdown",
   "metadata": {},
   "source": [
    "Visualize the German Traffic Signs Dataset using the pickled file(s). This is open ended, suggestions include: plotting traffic sign images, plotting the count of each sign, etc.\n",
    "\n",
    "The [Matplotlib](http://matplotlib.org/) [examples](http://matplotlib.org/examples/index.html) and [gallery](http://matplotlib.org/gallery.html) pages are a great resource for doing visualizations in Python.\n",
    "\n",
    "**NOTE:** It's recommended you start with something simple first. If you wish to do more, come back to it after you've completed the rest of the sections."
   ]
  },
  {
   "cell_type": "code",
   "execution_count": 3,
   "metadata": {
    "collapsed": false
   },
   "outputs": [
    {
     "name": "stdout",
     "output_type": "stream",
     "text": [
      "2\n"
     ]
    },
    {
     "data": {
      "image/png": "[encoded data removed]",
      "text/plain": [
       "<matplotlib.figure.Figure at 0x7f4ad01edb38>"
      ]
     },
     "metadata": {},
     "output_type": "display_data"
    }
   ],
   "source": [
    "### Data exploration visualization code goes here.\n",
    "### Feel free to use as many code cells as needed.\n",
    "import matplotlib.pyplot as plt\n",
    "# Visualizations will be shown in the notebook.\n",
    "%matplotlib inline\n",
    "import random\n",
    "import numpy as np\n",
    "\n",
    "index = random.randint(0, len(X_train))\n",
    "image = X_train[index].squeeze()\n",
    "\n",
    "plt.figure(figsize=(1,1))\n",
    "plt.imshow(image)\n",
    "print(y_train[index])"
   ]
  },
  {
   "cell_type": "markdown",
   "metadata": {},
   "source": [
    "----\n",
    "\n",
    "## Step 2: Design and Test a Model Architecture\n",
    "\n",
    "Design and implement a deep learning model that learns to recognize traffic signs. Train and test your model on the [German Traffic Sign Dataset](http://benchmark.ini.rub.de/?section=gtsrb&subsection=dataset).\n",
    "\n",
    "The LeNet-5 implementation shown in the [classroom](https://classroom.udacity.com/nanodegrees/nd013/parts/fbf77062-5703-404e-b60c-95b78b2f3f9e/modules/6df7ae49-c61c-4bb2-a23e-6527e69209ec/lessons/601ae704-1035-4287-8b11-e2c2716217ad/concepts/d4aca031-508f-4e0b-b493-e7b706120f81) at the end of the CNN lesson is a solid starting point. You'll have to change the number of classes and possibly the preprocessing, but aside from that it's plug and play! \n",
    "\n",
    "With the LeNet-5 solution from the lecture, you should expect a validation set accuracy of about 0.89. To meet specifications, the validation set accuracy will need to be at least 0.93. It is possible to get an even higher accuracy, but 0.93 is the minimum for a successful project submission. \n",
    "\n",
    "There are various aspects to consider when thinking about this problem:\n",
    "\n",
    "- Neural network architecture (is the network over or underfitting?)\n",
    "- Play around preprocessing techniques (normalization, rgb to grayscale, etc)\n",
    "- Number of examples per label (some have more than others).\n",
    "- Generate fake data.\n",
    "\n",
    "Here is an example of a [published baseline model on this problem](http://yann.lecun.com/exdb/publis/pdf/sermanet-ijcnn-11.pdf). It's not required to be familiar with the approach used in the paper but, it's good practice to try to read papers like these."
   ]
  },
  {
   "cell_type": "markdown",
   "metadata": {},
   "source": [
    "### Pre-process the Data Set (normalization, grayscale, etc.)"
   ]
  },
  {
   "cell_type": "markdown",
   "metadata": {},
   "source": [
    "Use the code cell (or multiple code cells, if necessary) to implement the first step of your project."
   ]
  },
  {
   "cell_type": "code",
   "execution_count": 4,
   "metadata": {
    "collapsed": false
   },
   "outputs": [],
   "source": [
    "### Preprocess the data here. Preprocessing steps could include normalization, converting to grayscale, etc.\n",
    "### Feel free to use as many code cells as needed.\n",
    "def preprocess(images):\n",
    "    def denoise(img):\n",
    "        \"\"\"Denoising did not seem to improve accuracy\"\"\"\n",
    "        return cv2.fastNlMeansDenoisingColored(img, h=10)\n",
    "        \n",
    "    def normalize(img_yuv):\n",
    "        \"\"\"Normalization did not seem to improve accuracy\"\"\"\n",
    "        \n",
    "        # Global equalization\n",
    "        img = img_yuv.copy()\n",
    "        img[:,:,0] = cv2.equalizeHist(img[:,:,0])\n",
    "\n",
    "        # Local equalization\n",
    "        clahe = cv2.createCLAHE(clipLimit=20.0, tileGridSize=(8,8))\n",
    "        img[:,:,0] = clahe.apply(img[:,:,0])\n",
    "        \n",
    "        return img\n",
    "    \n",
    "    def convert_to_yuv(img):\n",
    "        \"\"\"Conversion into YUV colorspace is effective\"\"\"\n",
    "        return cv2.cvtColor(img, cv2.COLOR_RGB2YUV)\n",
    "    \n",
    "    return [convert_to_yuv(img) for img in images]\n",
    "\n",
    "X_train = preprocess(X_train)\n",
    "X_valid = preprocess(X_valid)\n",
    "X_test = preprocess(X_test)\n",
    "\n",
    "from sklearn.utils import shuffle\n",
    "X_train, y_train = shuffle(X_train, y_train)"
   ]
  },
  {
   "cell_type": "markdown",
   "metadata": {},
   "source": [
    "### Model Architecture"
   ]
  },
  {
   "cell_type": "code",
   "execution_count": 5,
   "metadata": {
    "collapsed": true
   },
   "outputs": [],
   "source": [
    "### Define your architecture here.\n",
    "### Feel free to use as many code cells as needed.\n",
    "import tensorflow as tf\n",
    "\n",
    "EPOCHS = 100\n",
    "BATCH_SIZE = 128"
   ]
  },
  {
   "cell_type": "code",
   "execution_count": 6,
   "metadata": {
    "collapsed": true
   },
   "outputs": [],
   "source": [
    "from tensorflow.contrib.layers import flatten\n",
    "\n",
    "keep_prob = tf.placeholder(tf.float32) # probablity to keep the units\n",
    "\n",
    "def LeNet(x):    \n",
    "    # Arguments used for tf.truncated_normal, randomly defines variables for the weights and biases for each layer\n",
    "    mu = 0\n",
    "    sigma = 0.1\n",
    "    \n",
    "    # SOLUTION: Layer 1: Convolutional. Input = 32x32x1. Output = 28x28x6.\n",
    "    conv1_W = tf.Variable(tf.truncated_normal(shape=(5, 5, 3, 6), mean = mu, stddev = sigma))\n",
    "    conv1_b = tf.Variable(tf.zeros(6))\n",
    "    conv1   = tf.nn.conv2d(x, conv1_W, strides=[1, 1, 1, 1], padding='VALID') + conv1_b\n",
    "\n",
    "    # SOLUTION: Activation.\n",
    "    conv1 = tf.nn.relu(conv1)\n",
    "\n",
    "  \n",
    "    # SOLUTION: Pooling. Input = 28x28x6. Output = 14x14x6.\n",
    "    conv1 = tf.nn.max_pool(conv1, ksize=[1, 2, 2, 1], strides=[1, 2, 2, 1], padding='VALID')\n",
    "\n",
    "    # SOLUTION: Layer 2: Convolutional. Output = 10x10x16.\n",
    "    conv2_W = tf.Variable(tf.truncated_normal(shape=(5, 5, 6, 16), mean = mu, stddev = sigma))\n",
    "    conv2_b = tf.Variable(tf.zeros(16))\n",
    "    conv2   = tf.nn.conv2d(conv1, conv2_W, strides=[1, 1, 1, 1], padding='VALID') + conv2_b\n",
    "    \n",
    "    # SOLUTION: Activation.\n",
    "    conv2 = tf.nn.relu(conv2)\n",
    "\n",
    "    # SOLUTION: Pooling. Input = 10x10x16. Output = 5x5x16.\n",
    "    conv2 = tf.nn.max_pool(conv2, ksize=[1, 2, 2, 1], strides=[1, 2, 2, 1], padding='VALID')\n",
    "\n",
    "    # SOLUTION: Flatten. Input = 5x5x16. Output = 400.\n",
    "    fc0   = flatten(conv2)\n",
    "        #Dropout\n",
    "    fc0 = tf.nn.dropout(fc0, keep_prob)\n",
    "    \n",
    "    # SOLUTION: Layer 3: Fully Connected. Input = 400. Output = 120.\n",
    "    fc1_W = tf.Variable(tf.truncated_normal(shape=(400, 120), mean = mu, stddev = sigma))\n",
    "    fc1_b = tf.Variable(tf.zeros(120))\n",
    "    fc1   = tf.matmul(fc0, fc1_W) + fc1_b\n",
    "    \n",
    "    # SOLUTION: Activation.\n",
    "    fc1    = tf.nn.relu(fc1)\n",
    "    \n",
    "\n",
    "    \n",
    "    # SOLUTION: Layer 4: Fully Connected. Input = 120. Output = 84.\n",
    "    fc2_W  = tf.Variable(tf.truncated_normal(shape=(120, 84), mean = mu, stddev = sigma))\n",
    "    fc2_b  = tf.Variable(tf.zeros(84))\n",
    "    fc2    = tf.matmul(fc1, fc2_W) + fc2_b\n",
    "    \n",
    "    # SOLUTION: Activation.\n",
    "    fc2    = tf.nn.relu(fc2)\n",
    "    \n",
    "    # SOLUTION: Layer 5: Fully Connected. Input = 84. Output = 43.\n",
    "    fc3_W  = tf.Variable(tf.truncated_normal(shape=(84, 43), mean = mu, stddev = sigma))\n",
    "    fc3_b  = tf.Variable(tf.zeros(43))\n",
    "    logits = tf.matmul(fc2, fc3_W) + fc3_b\n",
    "    \n",
    "    return logits"
   ]
  },
  {
   "cell_type": "code",
   "execution_count": 7,
   "metadata": {
    "collapsed": true
   },
   "outputs": [],
   "source": [
    "x = tf.placeholder(tf.float32, (None, 32, 32, 3))\n",
    "y = tf.placeholder(tf.int32, (None))\n",
    "one_hot_y = tf.one_hot(y, 43)"
   ]
  },
  {
   "cell_type": "markdown",
   "metadata": {},
   "source": [
    "### Train, Validate and Test the Model"
   ]
  },
  {
   "cell_type": "markdown",
   "metadata": {},
   "source": [
    "A validation set can be used to assess how well the model is performing. A low accuracy on the training and validation\n",
    "sets imply underfitting. A high accuracy on the training set but low accuracy on the validation set implies overfitting."
   ]
  },
  {
   "cell_type": "code",
   "execution_count": 8,
   "metadata": {
    "collapsed": true
   },
   "outputs": [],
   "source": [
    "### Train your model here.\n",
    "### Calculate and report the accuracy on the training and validation set.\n",
    "### Once a final model architecture is selected, \n",
    "### the accuracy on the test set should be calculated and reported as well.\n",
    "### Feel free to use as many code cells as needed.\n",
    "rate = 0.001\n",
    "\n",
    "logits = LeNet(x)\n",
    "cross_entropy = tf.nn.softmax_cross_entropy_with_logits(logits=logits, labels=one_hot_y)\n",
    "loss_operation = tf.reduce_mean(cross_entropy)\n",
    "optimizer = tf.train.AdamOptimizer(learning_rate = rate)\n",
    "training_operation = optimizer.minimize(loss_operation)"
   ]
  },
  {
   "cell_type": "code",
   "execution_count": 9,
   "metadata": {
    "collapsed": false
   },
   "outputs": [],
   "source": [
    "correct_prediction = tf.equal(tf.argmax(logits, 1), tf.argmax(one_hot_y, 1))\n",
    "accuracy_operation = tf.reduce_mean(tf.cast(correct_prediction, tf.float32))\n",
    "saver = tf.train.Saver()\n",
    "\n",
    "def evaluate(X_data, y_data):\n",
    "    num_examples = len(X_data)\n",
    "    total_accuracy = 0\n",
    "    sess = tf.get_default_session()\n",
    "    for offset in range(0, num_examples, BATCH_SIZE):\n",
    "        batch_x, batch_y = X_data[offset:offset+BATCH_SIZE], y_data[offset:offset+BATCH_SIZE]\n",
    "        accuracy = sess.run(accuracy_operation, feed_dict={x: batch_x, y: batch_y,keep_prob: 1.0})\n",
    "        total_accuracy += (accuracy * len(batch_x))\n",
    "    return total_accuracy / num_examples"
   ]
  },
  {
   "cell_type": "code",
   "execution_count": 18,
   "metadata": {
    "collapsed": false
   },
   "outputs": [
    {
     "name": "stdout",
     "output_type": "stream",
     "text": [
      "Training...\n",
      "\n",
      "EPOCH 1 ...\n",
      "Validation Accuracy = 0.370\n",
      "Cost = 2.413\n",
      "\n",
      "EPOCH 2 ...\n",
      "Validation Accuracy = 0.546\n",
      "Cost = 1.123\n",
      "\n",
      "EPOCH 3 ...\n",
      "Validation Accuracy = 0.698\n",
      "Cost = 0.844\n",
      "\n",
      "EPOCH 4 ...\n",
      "Validation Accuracy = 0.737\n",
      "Cost = 0.687\n",
      "\n",
      "EPOCH 5 ...\n",
      "Validation Accuracy = 0.774\n",
      "Cost = 0.642\n",
      "\n",
      "EPOCH 6 ...\n",
      "Validation Accuracy = 0.810\n",
      "Cost = 0.456\n",
      "\n",
      "EPOCH 7 ...\n",
      "Validation Accuracy = 0.827\n",
      "Cost = 0.246\n",
      "\n",
      "EPOCH 8 ...\n",
      "Validation Accuracy = 0.843\n",
      "Cost = 0.325\n",
      "\n",
      "EPOCH 9 ...\n",
      "Validation Accuracy = 0.845\n",
      "Cost = 0.382\n",
      "\n",
      "EPOCH 10 ...\n",
      "Validation Accuracy = 0.866\n",
      "Cost = 0.288\n",
      "\n",
      "EPOCH 11 ...\n",
      "Validation Accuracy = 0.872\n",
      "Cost = 0.260\n",
      "\n",
      "EPOCH 12 ...\n",
      "Validation Accuracy = 0.869\n",
      "Cost = 0.224\n",
      "\n",
      "EPOCH 13 ...\n",
      "Validation Accuracy = 0.859\n",
      "Cost = 0.169\n",
      "\n",
      "EPOCH 14 ...\n",
      "Validation Accuracy = 0.885\n",
      "Cost = 0.141\n",
      "\n",
      "EPOCH 15 ...\n",
      "Validation Accuracy = 0.904\n",
      "Cost = 0.178\n",
      "\n",
      "EPOCH 16 ...\n",
      "Validation Accuracy = 0.885\n",
      "Cost = 0.177\n",
      "\n",
      "EPOCH 17 ...\n",
      "Validation Accuracy = 0.895\n",
      "Cost = 0.167\n",
      "\n",
      "EPOCH 18 ...\n",
      "Validation Accuracy = 0.894\n",
      "Cost = 0.087\n",
      "\n",
      "EPOCH 19 ...\n",
      "Validation Accuracy = 0.903\n",
      "Cost = 0.086\n",
      "\n",
      "EPOCH 20 ...\n",
      "Validation Accuracy = 0.890\n",
      "Cost = 0.104\n",
      "\n",
      "EPOCH 21 ...\n",
      "Validation Accuracy = 0.899\n",
      "Cost = 0.069\n",
      "\n",
      "EPOCH 22 ...\n",
      "Validation Accuracy = 0.895\n",
      "Cost = 0.081\n",
      "\n",
      "EPOCH 23 ...\n",
      "Validation Accuracy = 0.895\n",
      "Cost = 0.084\n",
      "\n",
      "EPOCH 24 ...\n",
      "Validation Accuracy = 0.909\n",
      "Cost = 0.065\n",
      "\n",
      "EPOCH 25 ...\n",
      "Validation Accuracy = 0.898\n",
      "Cost = 0.057\n",
      "\n",
      "EPOCH 26 ...\n",
      "Validation Accuracy = 0.901\n",
      "Cost = 0.088\n",
      "\n",
      "EPOCH 27 ...\n",
      "Validation Accuracy = 0.902\n",
      "Cost = 0.091\n",
      "\n",
      "EPOCH 28 ...\n",
      "Validation Accuracy = 0.908\n",
      "Cost = 0.037\n",
      "\n",
      "EPOCH 29 ...\n",
      "Validation Accuracy = 0.908\n",
      "Cost = 0.053\n",
      "\n",
      "EPOCH 30 ...\n",
      "Validation Accuracy = 0.921\n",
      "Cost = 0.055\n",
      "\n",
      "EPOCH 31 ...\n",
      "Validation Accuracy = 0.914\n",
      "Cost = 0.128\n",
      "\n",
      "EPOCH 32 ...\n",
      "Validation Accuracy = 0.915\n",
      "Cost = 0.072\n",
      "\n",
      "EPOCH 33 ...\n",
      "Validation Accuracy = 0.910\n",
      "Cost = 0.080\n",
      "\n",
      "EPOCH 34 ...\n",
      "Validation Accuracy = 0.913\n",
      "Cost = 0.121\n",
      "\n",
      "EPOCH 35 ...\n",
      "Validation Accuracy = 0.900\n",
      "Cost = 0.051\n",
      "\n",
      "EPOCH 36 ...\n",
      "Validation Accuracy = 0.920\n",
      "Cost = 0.019\n",
      "\n",
      "EPOCH 37 ...\n",
      "Validation Accuracy = 0.919\n",
      "Cost = 0.015\n",
      "\n",
      "EPOCH 38 ...\n",
      "Validation Accuracy = 0.920\n",
      "Cost = 0.008\n",
      "\n",
      "EPOCH 39 ...\n",
      "Validation Accuracy = 0.925\n",
      "Cost = 0.084\n",
      "\n",
      "EPOCH 40 ...\n",
      "Validation Accuracy = 0.919\n",
      "Cost = 0.078\n",
      "\n",
      "EPOCH 41 ...\n",
      "Validation Accuracy = 0.917\n",
      "Cost = 0.039\n",
      "\n",
      "Model saved\n"
     ]
    }
   ],
   "source": [
    "import math\n",
    "with tf.Session() as sess:\n",
    "    sess.run(tf.global_variables_initializer())\n",
    "    num_examples = len(X_train)\n",
    "    \n",
    "    print(\"Training...\")\n",
    "    print()\n",
    "    n=0\n",
    "    prev_acc = 0\n",
    "    for i in range(EPOCHS):\n",
    "        X_train, y_train = shuffle(X_train, y_train)\n",
    "        for offset in range(0, num_examples, BATCH_SIZE):\n",
    "            end = offset + BATCH_SIZE\n",
    "            batch_x, batch_y = X_train[offset:end], y_train[offset:end]\n",
    "            sess.run(training_operation, feed_dict={x: batch_x, y: batch_y,keep_prob: 0.5})\n",
    "            \n",
    "        validation_accuracy = evaluate(X_valid, y_valid)\n",
    "        cost = sess.run(loss_operation,feed_dict={x:batch_x, y:batch_y,keep_prob: 1.0})\n",
    "        print(\"EPOCH {} ...\".format(i+1))\n",
    "        print(\"Validation Accuracy = {:.3f}\".format(validation_accuracy))\n",
    "        print(\"Cost = {:.3f}\".format(cost))        \n",
    "        print()\n",
    "        #Get the previous accuracy data to compare with subsequent accuracy values\n",
    "        if(n==0):\n",
    "            prev_acc=validation_accuracy\n",
    "        acc = validation_accuracy - prev_acc\n",
    "        acc = acc * acc  # do square to convert any negative number to positive\n",
    "        acc = math.sqrt(acc) \n",
    "        if (acc < 0.009):\n",
    "            n=n+1\n",
    "        else:\n",
    "            n=0\n",
    "        if n > 5 and validation_accuracy > 0.90:  # if the validation accuracy is same for 5 consecutive times then stop training.\n",
    "            break\n",
    "        \n",
    "    saver.save(sess, './Traffic-sign-clas')\n",
    "    print(\"Model saved\")"
   ]
  },
  {
   "cell_type": "code",
   "execution_count": 19,
   "metadata": {
    "collapsed": false,
    "scrolled": true
   },
   "outputs": [
    {
     "name": "stdout",
     "output_type": "stream",
     "text": [
      "Train Accuracy = 0.989\n",
      "Validation Accuracy = 0.917\n",
      "Test Accuracy = 0.921\n"
     ]
    }
   ],
   "source": [
    "# Accuracy on the training set\n",
    "# Not stastically useful for generalization, however if we have near-perfect accuracy \n",
    "# here, but not on validation and test data that is a signal that we have likely overfit\n",
    "# the training data\n",
    "with tf.Session() as sess:\n",
    "    saver.restore(sess,tf.train.latest_checkpoint('.'))\n",
    "\n",
    "    # Evaluate Training accuracy\n",
    "    train_accuracy = evaluate(X_train, y_train)\n",
    "    print(\"Train Accuracy = {:.3f}\".format(train_accuracy))\n",
    "\n",
    "    # Evaluate Validation accuracy\n",
    "    valid_accuracy = evaluate(X_valid, y_valid)\n",
    "    print(\"Validation Accuracy = {:.3f}\".format(valid_accuracy))\n",
    "\n",
    "    # Evaluate Test accuracy\n",
    "    test_accuracy = evaluate(X_test, y_test)\n",
    "    print(\"Test Accuracy = {:.3f}\".format(test_accuracy))"
   ]
  },
  {
   "cell_type": "markdown",
   "metadata": {},
   "source": [
    "---\n",
    "\n",
    "## Step 3: Test a Model on New Images\n",
    "\n",
    "To give yourself more insight into how your model is working, download at least five pictures of German traffic signs from the web and use your model to predict the traffic sign type.\n",
    "\n",
    "You may find `signnames.csv` useful as it contains mappings from the class id (integer) to the actual sign name."
   ]
  },
  {
   "cell_type": "markdown",
   "metadata": {},
   "source": [
    "### Load and Output the Images"
   ]
  },
  {
   "cell_type": "code",
   "execution_count": 20,
   "metadata": {
    "collapsed": false
   },
   "outputs": [
    {
     "data": {
      "image/png": "[encoded data removed]",
      "text/plain": [
       "<matplotlib.figure.Figure at 0x7f4a5d2fe908>"
      ]
     },
     "metadata": {},
     "output_type": "display_data"
    },
    {
     "name": "stdout",
     "output_type": "stream",
     "text": [
      "Image data shape = (32, 32, 3)\n"
     ]
    },
    {
     "data": {
      "image/png": "[encoded data removed]",
      "text/plain": [
       "<matplotlib.figure.Figure at 0x7f4a66687390>"
      ]
     },
     "metadata": {},
     "output_type": "display_data"
    }
   ],
   "source": [
    "### Load the images and plot them here.\n",
    "### Feel free to use as many code cells as needed.\n",
    "import matplotlib.image as mpimg\n",
    "\n",
    "mgdir = \"new_images\"\n",
    "X_new_images = []\n",
    "for filename in os.listdir(mgdir):\n",
    "    img = mpimg.imread(os.path.join(mgdir,filename))\n",
    "    img = cv2.resize(img,(32,32), interpolation=cv2.INTER_AREA)\n",
    "    X_new_images.append(img)\n",
    "\n",
    "#Plot the new images\n",
    "vis = np.concatenate(X_new_images[0:6], axis=1)\n",
    "plt.imshow(vis)\n",
    "plt.show()\n",
    "vis=np.concatenate(X_new_images[6:], axis=1)\n",
    "plt.imshow(vis)\n",
    "plt.show\n",
    "\n",
    "image_shape = format(X_new_images[0].shape)\n",
    "print(\"Image data shape =\", image_shape)"
   ]
  },
  {
   "cell_type": "markdown",
   "metadata": {},
   "source": [
    "### Predict the Sign Type for Each Image"
   ]
  },
  {
   "cell_type": "code",
   "execution_count": 21,
   "metadata": {
    "collapsed": false,
    "scrolled": false
   },
   "outputs": [
    {
     "data": {
      "image/png": "[encoded data removed]",
      "text/plain": [
       "<matplotlib.figure.Figure at 0x7f4a5d2f4fd0>"
      ]
     },
     "metadata": {},
     "output_type": "display_data"
    },
    {
     "data": {
      "image/png": "[encoded data removed]",
      "text/plain": [
       "<matplotlib.figure.Figure at 0x7f4a667327b8>"
      ]
     },
     "metadata": {},
     "output_type": "display_data"
    },
    {
     "data": {
      "image/png": "[encoded data removed]",
      "text/plain": [
       "<matplotlib.figure.Figure at 0x7f4a67f57e80>"
      ]
     },
     "metadata": {},
     "output_type": "display_data"
    },
    {
     "data": {
      "image/png": "[encoded data removed]",
      "text/plain": [
       "<matplotlib.figure.Figure at 0x7f4ad01edb38>"
      ]
     },
     "metadata": {},
     "output_type": "display_data"
    },
    {
     "data": {
      "image/png": "[encoded data removed]",
      "text/plain": [
       "<matplotlib.figure.Figure at 0x7f4a6666e9b0>"
      ]
     },
     "metadata": {},
     "output_type": "display_data"
    },
    {
     "data": {
      "image/png": "[encoded data removed]",
      "text/plain": [
       "<matplotlib.figure.Figure at 0x7f4a5d27e2e8>"
      ]
     },
     "metadata": {},
     "output_type": "display_data"
    },
    {
     "data": {
      "image/png": "[encoded data removed]",
      "text/plain": [
       "<matplotlib.figure.Figure at 0x7f4a5d30d6a0>"
      ]
     },
     "metadata": {},
     "output_type": "display_data"
    },
    {
     "data": {
      "image/png": "[encoded data removed]",
      "text/plain": [
       "<matplotlib.figure.Figure at 0x7f4a66632d68>"
      ]
     },
     "metadata": {},
     "output_type": "display_data"
    },
    {
     "data": {
      "image/png": "[encoded data removed]",
      "text/plain": [
       "<matplotlib.figure.Figure at 0x7f4a6a66def0>"
      ]
     },
     "metadata": {},
     "output_type": "display_data"
    },
    {
     "data": {
      "image/png": "[encoded data removed]",
      "text/plain": [
       "<matplotlib.figure.Figure at 0x7f4a666a1048>"
      ]
     },
     "metadata": {},
     "output_type": "display_data"
    },
    {
     "data": {
      "image/png": "[encoded data removed]",
      "text/plain": [
       "<matplotlib.figure.Figure at 0x7f4a4f0d8e80>"
      ]
     },
     "metadata": {},
     "output_type": "display_data"
    },
    {
     "data": {
      "image/png": "[encoded data removed]",
      "text/plain": [
       "<matplotlib.figure.Figure at 0x7f4a63b20d68>"
      ]
     },
     "metadata": {},
     "output_type": "display_data"
    }
   ],
   "source": [
    "### Run the predictions here and use the model to output the prediction for each image.\n",
    "### Make sure to pre-process the images with the same pre-processing pipeline used earlier.\n",
    "### Feel free to use as many code cells as needed.\n",
    "X_new_images_p = preprocess(X_new_images)\n",
    "y_new_images = [11,3,40,13,14,28,38,27,2,18,33,17]\n",
    "\n",
    "with tf.Session() as sess:\n",
    "    saver.restore(sess,tf.train.latest_checkpoint('.'))\n",
    "    \n",
    "    prediction = sess.run(tf.argmax(logits,1), feed_dict={x: X_new_images_p, keep_prob: 1.0})\n",
    "    \n",
    "    for (i,v) in enumerate(prediction):\n",
    "        annotation = \"Actual: %s\\nPredicted: %s\" % (\n",
    "        sign_names[y_new_images[i]], sign_names[v])\n",
    "        fig = plt.figure(figsize=(1,1))\n",
    "        plt.imshow(X_new_images[i])\n",
    "        plt.annotate(annotation,xy=(0,0), xytext=(60,25), fontsize=12, family='monospace')\n",
    "        plt.show()\n",
    "        "
   ]
  },
  {
   "cell_type": "markdown",
   "metadata": {},
   "source": [
    "### Analyze Performance"
   ]
  },
  {
   "cell_type": "code",
   "execution_count": 22,
   "metadata": {
    "collapsed": false
   },
   "outputs": [
    {
     "name": "stdout",
     "output_type": "stream",
     "text": [
      "Accuracy = 91.67%\n"
     ]
    }
   ],
   "source": [
    "### Calculate the accuracy for these 5 new images. \n",
    "### For example, if the model predicted 1 out of 5 signs correctly, it's 20% accurate on these new images.\n",
    "accuracy = sum(y_new_images == prediction)/len(y_new_images)\n",
    "print(\"Accuracy = %4.2f%%\" % (100*accuracy))"
   ]
  },
  {
   "cell_type": "markdown",
   "metadata": {},
   "source": [
    "### Output Top 5 Softmax Probabilities For Each Image Found on the Web"
   ]
  },
  {
   "cell_type": "markdown",
   "metadata": {},
   "source": [
    "For each of the new images, print out the model's softmax probabilities to show the **certainty** of the model's predictions (limit the output to the top 5 probabilities for each image). [`tf.nn.top_k`](https://www.tensorflow.org/versions/r0.12/api_docs/python/nn.html#top_k) could prove helpful here. \n",
    "\n",
    "The example below demonstrates how tf.nn.top_k can be used to find the top k predictions for each image.\n",
    "\n",
    "`tf.nn.top_k` will return the values and indices (class ids) of the top k predictions. So if k=3, for each sign, it'll return the 3 largest probabilities (out of a possible 43) and the correspoding class ids.\n",
    "\n",
    "Take this numpy array as an example. The values in the array represent predictions. The array contains softmax probabilities for five candidate images with six possible classes. `tk.nn.top_k` is used to choose the three classes with the highest probability:\n",
    "\n",
    "```\n",
    "# (5, 6) array\n",
    "a = np.array([[ 0.24879643,  0.07032244,  0.12641572,  0.34763842,  0.07893497,\n",
    "         0.12789202],\n",
    "       [ 0.28086119,  0.27569815,  0.08594638,  0.0178669 ,  0.18063401,\n",
    "         0.15899337],\n",
    "       [ 0.26076848,  0.23664738,  0.08020603,  0.07001922,  0.1134371 ,\n",
    "         0.23892179],\n",
    "       [ 0.11943333,  0.29198961,  0.02605103,  0.26234032,  0.1351348 ,\n",
    "         0.16505091],\n",
    "       [ 0.09561176,  0.34396535,  0.0643941 ,  0.16240774,  0.24206137,\n",
    "         0.09155967]])\n",
    "```\n",
    "\n",
    "Running it through `sess.run(tf.nn.top_k(tf.constant(a), k=3))` produces:\n",
    "\n",
    "```\n",
    "TopKV2(values=array([[ 0.34763842,  0.24879643,  0.12789202],\n",
    "       [ 0.28086119,  0.27569815,  0.18063401],\n",
    "       [ 0.26076848,  0.23892179,  0.23664738],\n",
    "       [ 0.29198961,  0.26234032,  0.16505091],\n",
    "       [ 0.34396535,  0.24206137,  0.16240774]]), indices=array([[3, 0, 5],\n",
    "       [0, 1, 4],\n",
    "       [0, 5, 1],\n",
    "       [1, 3, 5],\n",
    "       [1, 4, 3]], dtype=int32))\n",
    "```\n",
    "\n",
    "Looking just at the first row we get `[ 0.34763842,  0.24879643,  0.12789202]`, you can confirm these are the 3 largest probabilities in `a`. You'll also notice `[3, 0, 5]` are the corresponding indices."
   ]
  },
  {
   "cell_type": "code",
   "execution_count": 23,
   "metadata": {
    "collapsed": false
   },
   "outputs": [
    {
     "name": "stdout",
     "output_type": "stream",
     "text": [
      "\n",
      "           == Actual ==          - Right-of-way at the next intersection\n",
      "   0.99974817037582397461%  - Right-of-way at the next intersection\n",
      "   0.00014979654224589467%  - Slippery road\n",
      "   0.00009908693027682602%  - Double curve\n",
      "   0.00000242599458033510%  - Beware of ice/snow\n",
      "   0.00000040041760485110%  - Bicycles crossing\n",
      "\n",
      "           == Actual ==          - Speed limit (60km/h)\n",
      "   0.98083877563476562500%  - Speed limit (60km/h)\n",
      "   0.01914075389504432678%  - Speed limit (50km/h)\n",
      "   0.00001505100499343826%  - Speed limit (80km/h)\n",
      "   0.00000541476583748590%  - Speed limit (30km/h)\n",
      "   0.00000001221889256442%  - Ahead only\n",
      "\n",
      "           == Actual ==          - Roundabout mandatory\n",
      "   0.72955393791198730469%  - End of no passing by vehicles over 3.5 metric tons\n",
      "   0.12970100343227386475%  - Right-of-way at the next intersection\n",
      "   0.10825675725936889648%  - Priority road\n",
      "   0.02837246656417846680%  - End of no passing\n",
      "   0.00267334538511931896%  - Roundabout mandatory\n",
      "\n",
      "           == Actual ==          - Yield\n",
      "   1.00000000000000000000%  - Yield\n",
      "   0.00000000000000691392%  - No vehicles\n",
      "   0.00000000000000001276%  - Priority road\n",
      "   0.00000000000000000000%  - Ahead only\n",
      "   0.00000000000000000000%  - Go straight or right\n",
      "\n",
      "           == Actual ==          - Stop\n",
      "   0.99403363466262817383%  - Stop\n",
      "   0.00270097842440009117%  - Speed limit (30km/h)\n",
      "   0.00187237432692199945%  - Speed limit (20km/h)\n",
      "   0.00054954673396423459%  - Traffic signals\n",
      "   0.00030158759909681976%  - Speed limit (70km/h)\n",
      "\n",
      "           == Actual ==          - Children crossing\n",
      "   0.99999976158142089844%  - Children crossing\n",
      "   0.00000020879190287815%  - Road narrows on the right\n",
      "   0.00000001284823536452%  - Road work\n",
      "   0.00000001090265744352%  - General caution\n",
      "   0.00000000445229897394%  - Right-of-way at the next intersection\n",
      "\n",
      "           == Actual ==          - Keep right\n",
      "   1.00000000000000000000%  - Keep right\n",
      "   0.00000000000000000000%  - Road work\n",
      "   0.00000000000000000000%  - Turn left ahead\n",
      "   0.00000000000000000000%  - Priority road\n",
      "   0.00000000000000000000%  - Dangerous curve to the right\n",
      "\n",
      "           == Actual ==          - Pedestrians\n",
      "   0.41991531848907470703%  - Pedestrians\n",
      "   0.35135462880134582520%  - Traffic signals\n",
      "   0.22807593643665313721%  - General caution\n",
      "   0.00054504070430994034%  - Right-of-way at the next intersection\n",
      "   0.00006675338954664767%  - Children crossing\n",
      "\n",
      "           == Actual ==          - Speed limit (50km/h)\n",
      "   0.99999511241912841797%  - Speed limit (50km/h)\n",
      "   0.00000487593615616788%  - Speed limit (80km/h)\n",
      "   0.00000003598428222062%  - Speed limit (30km/h)\n",
      "   0.00000001040981079115%  - Speed limit (60km/h)\n",
      "   0.00000000000000000210%  - Speed limit (100km/h)\n",
      "\n",
      "           == Actual ==          - General caution\n",
      "   1.00000000000000000000%  - General caution\n",
      "   0.00000000000009866818%  - Traffic signals\n",
      "   0.00000000000000000001%  - Road work\n",
      "   0.00000000000000000000%  - Pedestrians\n",
      "   0.00000000000000000000%  - Turn right ahead\n",
      "\n",
      "           == Actual ==          - Turn right ahead\n",
      "   1.00000000000000000000%  - Turn right ahead\n",
      "   0.00000000009251899247%  - Yield\n",
      "   0.00000000000000001111%  - Ahead only\n",
      "   0.00000000000000000000%  - No vehicles\n",
      "   0.00000000000000000000%  - Keep left\n",
      "\n",
      "           == Actual ==          - No entry\n",
      "   0.99152559041976928711%  - No entry\n",
      "   0.00847386103123426437%  - Stop\n",
      "   0.00000034752380884129%  - Yield\n",
      "   0.00000017368891747083%  - No passing for vehicles over 3.5 metric tons\n",
      "   0.00000000042946968204%  - Traffic signals\n"
     ]
    }
   ],
   "source": [
    "### Print out the top five softmax probabilities for the predictions on the German traffic sign images found on the web. \n",
    "### Feel free to use as many code cells as needed.\n",
    "k=5\n",
    "top_k = tf.nn.top_k(tf.nn.softmax(logits), k=k)\n",
    "\n",
    "with tf.Session() as sess:\n",
    "    saver.restore(sess,tf.train.latest_checkpoint('.'))\n",
    "    top = sess.run(top_k, feed_dict={x: X_new_images_p, keep_prob: 1.0})\n",
    "    \n",
    "    for i in range(len(y_new_images)):\n",
    "        print(\"\\n           == Actual ==          -\", sign_names[y_new_images[i]])\n",
    "        for j in range(k):\n",
    "            #print(\"   %22.20f%%  - %s\" % (top[0][i][i][j], sign_names[top[1][i][j]]))\n",
    "            print(\"   %22.20f%%  - %s\" % (top[0][i][j], sign_names[top[1][i][j]]))"
   ]
  },
  {
   "cell_type": "markdown",
   "metadata": {},
   "source": [
    "---\n",
    "\n",
    "## Step 4: Visualize the Neural Network's State with Test Images\n",
    "\n",
    " This Section is not required to complete but acts as an additional excersise for understaning the output of a neural network's weights. While neural networks can be a great learning device they are often referred to as a black box. We can understand what the weights of a neural network look like better by plotting their feature maps. After successfully training your neural network you can see what it's feature maps look like by plotting the output of the network's weight layers in response to a test stimuli image. From these plotted feature maps, it's possible to see what characteristics of an image the network finds interesting. For a sign, maybe the inner network feature maps react with high activation to the sign's boundary outline or to the contrast in the sign's painted symbol.\n",
    "\n",
    " Provided for you below is the function code that allows you to get the visualization output of any tensorflow weight layer you want. The inputs to the function should be a stimuli image, one used during training or a new one you provided, and then the tensorflow variable name that represents the layer's state during the training process, for instance if you wanted to see what the [LeNet lab's](https://classroom.udacity.com/nanodegrees/nd013/parts/fbf77062-5703-404e-b60c-95b78b2f3f9e/modules/6df7ae49-c61c-4bb2-a23e-6527e69209ec/lessons/601ae704-1035-4287-8b11-e2c2716217ad/concepts/d4aca031-508f-4e0b-b493-e7b706120f81) feature maps looked like for it's second convolutional layer you could enter conv2 as the tf_activation variable.\n",
    "\n",
    "For an example of what feature map outputs look like, check out NVIDIA's results in their paper [End-to-End Deep Learning for Self-Driving Cars](https://devblogs.nvidia.com/parallelforall/deep-learning-self-driving-cars/) in the section Visualization of internal CNN State. NVIDIA was able to show that their network's inner weights had high activations to road boundary lines by comparing feature maps from an image with a clear path to one without. Try experimenting with a similar test to show that your trained network's weights are looking for interesting features, whether it's looking at differences in feature maps from images with or without a sign, or even what feature maps look like in a trained network vs a completely untrained one on the same sign image.\n",
    "\n",
    "<figure>\n",
    " <img src=\"visualize_cnn.png\" width=\"380\" alt=\"Combined Image\" />\n",
    " <figcaption>\n",
    " <p></p> \n",
    " <p style=\"text-align: center;\"> Your output should look something like this (above)</p> \n",
    " </figcaption>\n",
    "</figure>\n",
    " <p></p> \n"
   ]
  },
  {
   "cell_type": "code",
   "execution_count": 16,
   "metadata": {
    "collapsed": true
   },
   "outputs": [],
   "source": [
    "### Visualize your network's feature maps here.\n",
    "### Feel free to use as many code cells as needed.\n",
    "\n",
    "# image_input: the test image being fed into the network to produce the feature maps\n",
    "# tf_activation: should be a tf variable name used during your training procedure that represents the calculated state of a specific weight layer\n",
    "# activation_min/max: can be used to view the activation contrast in more detail, by default matplot sets min and max to the actual min and max values of the output\n",
    "# plt_num: used to plot out multiple different weight feature map sets on the same block, just extend the plt number for each new feature map entry\n",
    "\n",
    "def outputFeatureMap(image_input, tf_activation, activation_min=-1, activation_max=-1 ,plt_num=1):\n",
    "    # Here make sure to preprocess your image_input in a way your network expects\n",
    "    # with size, normalization, ect if needed\n",
    "    # image_input =\n",
    "    # Note: x should be the same name as your network's tensorflow data placeholder variable\n",
    "    # If you get an error tf_activation is not defined it maybe having trouble accessing the variable from inside a function\n",
    "    activation = tf_activation.eval(session=sess,feed_dict={x : image_input})\n",
    "    featuremaps = activation.shape[3]\n",
    "    plt.figure(plt_num, figsize=(15,15))\n",
    "    for featuremap in range(featuremaps):\n",
    "        plt.subplot(6,8, featuremap+1) # sets the number of feature maps to show on each row and column\n",
    "        plt.title('FeatureMap ' + str(featuremap)) # displays the feature map number\n",
    "        if activation_min != -1 & activation_max != -1:\n",
    "            plt.imshow(activation[0,:,:, featuremap], interpolation=\"nearest\", vmin =activation_min, vmax=activation_max, cmap=\"gray\")\n",
    "        elif activation_max != -1:\n",
    "            plt.imshow(activation[0,:,:, featuremap], interpolation=\"nearest\", vmax=activation_max, cmap=\"gray\")\n",
    "        elif activation_min !=-1:\n",
    "            plt.imshow(activation[0,:,:, featuremap], interpolation=\"nearest\", vmin=activation_min, cmap=\"gray\")\n",
    "        else:\n",
    "            plt.imshow(activation[0,:,:, featuremap], interpolation=\"nearest\", cmap=\"gray\")"
   ]
  },
  {
   "cell_type": "markdown",
   "metadata": {},
   "source": [
    "### Question 9\n",
    "\n",
    "Discuss how you used the visual output of your trained network's feature maps to show that it had learned to look for interesting characteristics in traffic sign images\n"
   ]
  },
  {
   "cell_type": "markdown",
   "metadata": {},
   "source": [
    "**Answer:**"
   ]
  },
  {
   "cell_type": "markdown",
   "metadata": {},
   "source": [
    "> **Note**: Once you have completed all of the code implementations and successfully answered each question above, you may finalize your work by exporting the iPython Notebook as an HTML document. You can do this by using the menu above and navigating to  \\n\",\n",
    "    \"**File -> Download as -> HTML (.html)**. Include the finished document along with this notebook as your submission."
   ]
  },
  {
   "cell_type": "markdown",
   "metadata": {},
   "source": [
    "### Project Writeup\n",
    "\n",
    "Once you have completed the code implementation, document your results in a project writeup using this [template](https://github.com/udacity/CarND-Traffic-Sign-Classifier-Project/blob/master/writeup_template.md) as a guide. The writeup can be in a markdown or pdf file. "
   ]
  }
 ],
 "metadata": {
  "anaconda-cloud": {},
  "kernelspec": {
   "display_name": "Python 3",
   "language": "python",
   "name": "python3"
  },
  "language_info": {
   "codemirror_mode": {
    "name": "ipython",
    "version": 3
   },
   "file_extension": ".py",
   "mimetype": "text/x-python",
   "name": "python",
   "nbconvert_exporter": "python",
   "pygments_lexer": "ipython3",
   "version": "3.6.1"
  }
 },
 "nbformat": 4,
 "nbformat_minor": 1
}
